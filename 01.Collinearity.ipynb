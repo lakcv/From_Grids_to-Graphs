{
 "cells": [
  {
   "cell_type": "markdown",
   "id": "dd3f200c",
   "metadata": {},
   "source": [
    "## Collinearity Check\n",
    "Collinearity for any three points can be determined easily by taking the determinant of a matrix containing the points."
   ]
  },
  {
   "cell_type": "code",
   "execution_count": 1,
   "id": "2a485e93",
   "metadata": {},
   "outputs": [],
   "source": [
    "# Define Points (feel free to change these)\n",
    "# By default these will be cast as int64 arrays\n",
    "import numpy as np\n",
    "p1 = np.array([1, 2])\n",
    "p2 = np.array([2, 3])\n",
    "p3 = np.array([3, 4])"
   ]
  },
  {
   "cell_type": "markdown",
   "id": "6989deed",
   "metadata": {},
   "source": [
    "### General Case\n",
    "\n",
    "Define a function to determine collinearity using the `np.linalg.det()` function. Introduce the `epsilon` threshold to allow a tolerance for collinearity. If the determinant is less than `epsilon` then the points are collinear. \n"
   ]
  },
  {
   "cell_type": "code",
   "execution_count": 11,
   "id": "18047847",
   "metadata": {},
   "outputs": [],
   "source": [
    "def collinearity_float(p1, p2, p3, epsilon=1e-2): \n",
    "    collinear = False\n",
    "    # TODO: Add a third dimension of z=1 to each point\n",
    "    p1_3d = np.append(p1,1.0)\n",
    "    p2_3d = np.append(p2,1.0)\n",
    "    p3_3d = np.append(p3,1.0)\n",
    "    # TODO: Create the matrix out of three points\n",
    "    mat = np.vstack((p1_3d, p2_3d, p2_3d))\n",
    "    # TODO: Calculate the determinant of the matrix. \n",
    "    det = np.linalg.det(mat)\n",
    "    # TODO: Set collinear to True if the determinant is less than epsilon\n",
    "    collinear = abs(det) <= epsilon\n",
    "    return collinear"
   ]
  },
  {
   "cell_type": "markdown",
   "id": "6a8dcfbe",
   "metadata": {},
   "source": [
    "### Integer Case\n",
    "Define a function to take three points and test for collinearity by evaluating the determinant using the simplified version for the 2D case:\n",
    "\n",
    "$ det = x_1(y_2-y_3) + x_2(y_3-y_1) + x_3(y_1-y_2)$"
   ]
  },
  {
   "cell_type": "code",
   "execution_count": 12,
   "id": "82710d66",
   "metadata": {},
   "outputs": [],
   "source": [
    "def collinearity_int(p1, p2, p3, epsilon=1e-2): \n",
    "    collinear = False\n",
    "    # TODO: Calculate the determinant of the matrix using integer arithmetic\n",
    "    det = p1[0]*(p2[1]-p3[1]) + p2[0]*(p3[1]-p1[1]) + p3[0]*(p1[1]-p2[1])\n",
    "    # TODO: Set collinear to True if the determinant is equal to zero\n",
    "    collinear = abs(det) <= epsilon\n",
    "    return collinear"
   ]
  },
  {
   "cell_type": "markdown",
   "id": "6161426e",
   "metadata": {},
   "source": [
    "### Test it and time it"
   ]
  },
  {
   "cell_type": "code",
   "execution_count": 14,
   "id": "12f4ca61",
   "metadata": {},
   "outputs": [
    {
     "name": "stdout",
     "output_type": "stream",
     "text": [
      "7.665633690901867\n"
     ]
    }
   ],
   "source": [
    "import time\n",
    "t1 = time.time()\n",
    "collinear = [collinearity_float(p1, p2, p3) for i in range(1000)]\n",
    "t_3D = time.time() - t1\n",
    "\n",
    "t1 = time.time()\n",
    "collinear = [collinearity_int(p1, p2, p3) for i in range(1000)]\n",
    "t_2D = time.time() - t1\n",
    "print(t_3D/t_2D)"
   ]
  },
  {
   "cell_type": "code",
   "execution_count": null,
   "id": "c3cd6b07",
   "metadata": {},
   "outputs": [],
   "source": []
  }
 ],
 "metadata": {
  "kernelspec": {
   "display_name": "Python 3",
   "language": "python",
   "name": "python3"
  },
  "language_info": {
   "codemirror_mode": {
    "name": "ipython",
    "version": 3
   },
   "file_extension": ".py",
   "mimetype": "text/x-python",
   "name": "python",
   "nbconvert_exporter": "python",
   "pygments_lexer": "ipython3",
   "version": "3.6.3"
  }
 },
 "nbformat": 4,
 "nbformat_minor": 5
}
