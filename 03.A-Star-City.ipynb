{
 "cells": [
  {
   "cell_type": "markdown",
   "id": "8cfe7ecf",
   "metadata": {},
   "source": [
    "## Finding Your Way In The City\n",
    "\n",
    "In this notebook you'll combine the work of previous exercises to calculate a minimal series of waypoints in order to get from a start location to a goal location.\n",
    "\n",
    "You'll reuse and modify your algorithms from:\n",
    "\n",
    "- A*\n",
    "- Configuration Space\n",
    "- Collinearity and/or Bresenham"
   ]
  },
  {
   "cell_type": "code",
   "execution_count": 147,
   "id": "ec87c636",
   "metadata": {},
   "outputs": [],
   "source": [
    "import numpy as np\n",
    "import matplotlib.pyplot as plt\n",
    "from grid import create_grid\n",
    "#from planning import a_star\n",
    "from planning_ver2 import a_star\n",
    "\n",
    "\n",
    "%matplotlib inline\n",
    "\n",
    "#from bresenham import bresenham"
   ]
  },
  {
   "cell_type": "code",
   "execution_count": 148,
   "id": "10147dd6",
   "metadata": {},
   "outputs": [],
   "source": [
    "plt.rcParams['figure.figsize'] = 12, 12"
   ]
  },
  {
   "cell_type": "markdown",
   "id": "aa239f8c",
   "metadata": {},
   "source": [
    "You'll notice we've imported `create_grid`, and `a_star`. These are functions you've implemented in previous exercises, and here you'll use them to create a map and find a path from a starting position to a goal position.\n",
    "\n",
    "To read the function signature and documentation execute `?` followed by the function name in a cell. In the example below we'll check the documentation for `create_grid`."
   ]
  },
  {
   "cell_type": "code",
   "execution_count": 149,
   "id": "1772fc7c",
   "metadata": {},
   "outputs": [],
   "source": [
    "?a_star"
   ]
  },
  {
   "cell_type": "markdown",
   "id": "644787b0",
   "metadata": {},
   "source": [
    "If you would like to alter these implementations, you can modify [grid.py](/edit/grid.py) and [planning.py](/edit/planning.py) in the current directory."
   ]
  },
  {
   "cell_type": "code",
   "execution_count": 150,
   "id": "b0e2ba44",
   "metadata": {},
   "outputs": [
    {
     "name": "stdout",
     "output_type": "stream",
     "text": [
      "[[-310.2389   -439.2315     85.5         5.          5.         85.5     ]\n",
      " [-300.2389   -439.2315     85.5         5.          5.         85.5     ]\n",
      " [-290.2389   -439.2315     85.5         5.          5.         85.5     ]\n",
      " ...\n",
      " [ 257.8061    425.1645      1.75852     1.292725    1.292725    1.944791]\n",
      " [ 293.9967    368.3391      3.557666    1.129456    1.129456    3.667319]\n",
      " [ 281.5162    354.4156      4.999351    1.053772    1.053772    4.950246]]\n"
     ]
    }
   ],
   "source": [
    "# This is the same obstacle data from the previous lesson.\n",
    "filename = 'colliders.csv'\n",
    "data = np.loadtxt(filename, delimiter=',', dtype='Float64', skiprows=2)\n",
    "print(data)"
   ]
  },
  {
   "cell_type": "code",
   "execution_count": 151,
   "id": "106ec464",
   "metadata": {},
   "outputs": [],
   "source": [
    "# Static drone altitude (meters)\n",
    "drone_altitude = 5\n",
    "\n",
    "# Minimum distance stay away from obstacle (meters)\n",
    "safe_distance = 3"
   ]
  },
  {
   "cell_type": "code",
   "execution_count": 152,
   "id": "c519bde9",
   "metadata": {},
   "outputs": [],
   "source": [
    "# TODO: Use `create_grid` to create a grid configuration space of\n",
    "# the obstacle data.\n",
    "grid = create_grid(data, drone_altitude, safe_distance)"
   ]
  },
  {
   "cell_type": "code",
   "execution_count": 153,
   "id": "45c92d57",
   "metadata": {},
   "outputs": [
    {
     "data": {
      "image/png": "[encoded data removed]",
      "text/plain": [
       "<matplotlib.figure.Figure at 0x2628656e940>"
      ]
     },
     "metadata": {
      "needs_background": "light"
     },
     "output_type": "display_data"
    }
   ],
   "source": [
    "# equivalent to\n",
    "# plt.imshow(np.flip(grid, 0))\n",
    "plt.imshow(grid, origin='lower') \n",
    "\n",
    "plt.xlabel('EAST')\n",
    "plt.ylabel('NORTH')\n",
    "plt.show()"
   ]
  },
  {
   "cell_type": "markdown",
   "id": "fe1d66fc",
   "metadata": {},
   "source": [
    "Next you'll compute the path from a start location to a goal location using A*."
   ]
  },
  {
   "cell_type": "markdown",
   "id": "51fd736f",
   "metadata": {},
   "source": [
    "Start and goal coordinates in *(north, east)*."
   ]
  },
  {
   "cell_type": "code",
   "execution_count": 154,
   "id": "6719577b",
   "metadata": {},
   "outputs": [],
   "source": [
    "start_ne = (25,  100)\n",
    "goal_ne = (750., 370.)"
   ]
  },
  {
   "cell_type": "markdown",
   "id": "5fec072b",
   "metadata": {},
   "source": [
    "Write a heuristic function."
   ]
  },
  {
   "cell_type": "code",
   "execution_count": 177,
   "id": "15e67679",
   "metadata": {},
   "outputs": [],
   "source": [
    "def heuristic(position, goal_position , method = 'Euclidean' ):\n",
    "    # TODO: write a heuristic!    \n",
    "    if method == 'Euclidean':\n",
    "        h = ((position[0]-goal_position[0])**2 + (position[1]-goal_position[1])**2)**0.5\n",
    "    elif method == 'Manhattan':\n",
    "        h = abs(position[0]-goal_position[0]) + abs(position[1]-goal_position[1])\n",
    "    else:\n",
    "        print('Warning!!! Unknown method - {} \\n return h=0 '.format(method))\n",
    "        h = 0\n",
    "            \n",
    "    return h"
   ]
  },
  {
   "cell_type": "code",
   "execution_count": 178,
   "id": "1db2c6db",
   "metadata": {},
   "outputs": [],
   "source": [
    "?a_star"
   ]
  },
  {
   "cell_type": "markdown",
   "id": "588d4337",
   "metadata": {},
   "source": [
    "Compute the lowest cost path with `a_star`. "
   ]
  },
  {
   "cell_type": "code",
   "execution_count": 179,
   "id": "4cc18bbe",
   "metadata": {},
   "outputs": [
    {
     "name": "stdout",
     "output_type": "stream",
     "text": [
      "Found a path.\n",
      "786 898.4945160902303\n"
     ]
    }
   ],
   "source": [
    "# TODO: use `a_star` to compute the lowest cost path\n",
    "path, cost = a_star(grid,heuristic,start_ne,goal_ne)\n",
    "print(len(path), cost)"
   ]
  },
  {
   "cell_type": "markdown",
   "id": "bc87c29a",
   "metadata": {},
   "source": [
    "Let's plot the path!"
   ]
  },
  {
   "cell_type": "code",
   "execution_count": 180,
   "id": "64325140",
   "metadata": {},
   "outputs": [
    {
     "data": {
      "image/png": "[encoded data removed]",
      "text/plain": [
       "<matplotlib.figure.Figure at 0x26286760588>"
      ]
     },
     "metadata": {
      "needs_background": "light"
     },
     "output_type": "display_data"
    }
   ],
   "source": [
    "plt.imshow(grid, cmap='Greys', origin='lower')\n",
    "\n",
    "# For the purposes of the visual the east coordinate lay along\n",
    "# the x-axis and the north coordinates long the y-axis.\n",
    "plt.plot(start_ne[1], start_ne[0], 'x')\n",
    "plt.plot(goal_ne[1], goal_ne[0], 'x')\n",
    "\n",
    "if path is not None:\n",
    "    pp = np.array(path)\n",
    "    plt.plot(pp[:, 1], pp[:, 0], 'g')\n",
    "\n",
    "plt.xlabel('EAST')\n",
    "plt.ylabel('NORTH')\n",
    "plt.show()"
   ]
  },
  {
   "cell_type": "markdown",
   "id": "513231ab",
   "metadata": {},
   "source": [
    "Pretty neat! Unfortunately this path is impractical, the drone would be constantly stopping and going since each grid cell visited is synonymous with a waypoint. Ideally, we'd like to only consider a new waypoint when the drone's direction changes. Path pruning is one way to achieve this result."
   ]
  },
  {
   "cell_type": "markdown",
   "id": "ec52d3e0",
   "metadata": {},
   "source": [
    "### Path Pruning"
   ]
  },
  {
   "cell_type": "code",
   "execution_count": 184,
   "id": "8edea610",
   "metadata": {},
   "outputs": [],
   "source": [
    "def point(p):\n",
    "    return np.array([p[0], p[1], 1.]).reshape(1, -1)\n",
    "\n",
    "def collinearity_check(p1, p2, p3, epsilon=0.1):   \n",
    "    m = np.concatenate((p1, p2, p3), 0)\n",
    "    #print('p1 \\n', p1)\n",
    "    #print('p2 \\n',p2)\n",
    "    #print('p3 \\n',p3)\n",
    "    #print('m \\n',m)\n",
    "    det = np.linalg.det(m)\n",
    "    #if det >= epsilon:\n",
    "        #print('det \\n',det)\n",
    "    return abs(det) < epsilon"
   ]
  },
  {
   "cell_type": "markdown",
   "id": "41c75bd4",
   "metadata": {},
   "source": [
    "Complete the `prune_path` function below. It should return a new path much shorter than the original."
   ]
  },
  {
   "cell_type": "code",
   "execution_count": 185,
   "id": "04eeae64",
   "metadata": {},
   "outputs": [],
   "source": [
    "def prune_path(path):\n",
    "    if path is not None:\n",
    "        pruned_path = [p for p in path]\n",
    "        # TODO: prune the path!\n",
    "        if len(pruned_path) >=3:\n",
    "            redundant_points = [False]\n",
    "            for i in range(1,len(pruned_path)-2):\n",
    "                redundant_points.append(collinearity_check(point(path[i-1]),point(path[i]),point(path[i+1])))\n",
    "            redundant_points.append(False)\n",
    "        pruned_path = [ p for p,redundant in zip(pruned_path,redundant_points) if not redundant] \n",
    "    else:\n",
    "        pruned_path = path\n",
    "    return pruned_path"
   ]
  },
  {
   "cell_type": "markdown",
   "id": "8c47586a",
   "metadata": {},
   "source": [
    "Prune the path."
   ]
  },
  {
   "cell_type": "code",
   "execution_count": 186,
   "id": "433ecc85",
   "metadata": {},
   "outputs": [
    {
     "name": "stdout",
     "output_type": "stream",
     "text": [
      "46\n"
     ]
    }
   ],
   "source": [
    "pruned_path = prune_path(path)\n",
    "print(len(pruned_path))"
   ]
  },
  {
   "cell_type": "code",
   "execution_count": 187,
   "id": "872922c1",
   "metadata": {},
   "outputs": [
    {
     "data": {
      "text/plain": [
       "[(25, 100),\n",
       " (36, 111),\n",
       " (36, 143),\n",
       " (176, 283),\n",
       " (176, 293),\n",
       " (207, 324),\n",
       " (319, 324),\n",
       " (327, 316),\n",
       " (377, 316),\n",
       " (387, 306),\n",
       " (423, 306),\n",
       " (456, 339),\n",
       " (456, 353),\n",
       " (457, 354),\n",
       " (571, 354),\n",
       " (596, 379),\n",
       " (596, 383),\n",
       " (597, 384),\n",
       " (720, 384),\n",
       " (721, 383),\n",
       " (722, 383),\n",
       " (723, 382),\n",
       " (724, 382),\n",
       " (725, 381),\n",
       " (726, 381),\n",
       " (727, 380),\n",
       " (729, 380),\n",
       " (730, 379),\n",
       " (731, 379),\n",
       " (732, 378),\n",
       " (733, 378),\n",
       " (734, 377),\n",
       " (735, 377),\n",
       " (736, 376),\n",
       " (737, 376),\n",
       " (738, 375),\n",
       " (740, 375),\n",
       " (741, 374),\n",
       " (742, 374),\n",
       " (743, 373),\n",
       " (744, 373),\n",
       " (745, 372),\n",
       " (746, 372),\n",
       " (747, 371),\n",
       " (748, 371),\n",
       " (749, 370)]"
      ]
     },
     "execution_count": 187,
     "metadata": {},
     "output_type": "execute_result"
    }
   ],
   "source": [
    "pruned_path"
   ]
  },
  {
   "cell_type": "markdown",
   "id": "d8f69820",
   "metadata": {},
   "source": [
    "Replot the path, it will be the same as before but the drone flight will be much smoother."
   ]
  },
  {
   "cell_type": "code",
   "execution_count": 188,
   "id": "fbadbec8",
   "metadata": {},
   "outputs": [
    {
     "data": {
      "image/png": "[encoded data removed]",
      "text/plain": [
       "<matplotlib.figure.Figure at 0x26285f2b438>"
      ]
     },
     "metadata": {
      "needs_background": "light"
     },
     "output_type": "display_data"
    }
   ],
   "source": [
    "plt.imshow(grid, cmap='Greys', origin='lower')\n",
    "\n",
    "plt.plot(start_ne[1], start_ne[0], 'x')\n",
    "plt.plot(goal_ne[1], goal_ne[0], 'x')\n",
    "\n",
    "if pruned_path is not None:\n",
    "    pp = np.array(pruned_path)\n",
    "    plt.plot(pp[:, 1], pp[:, 0], 'g')\n",
    "    plt.scatter(pp[:, 1], pp[:, 0])\n",
    "\n",
    "plt.xlabel('EAST')\n",
    "plt.ylabel('NORTH')\n",
    "\n",
    "plt.show()"
   ]
  },
  {
   "cell_type": "code",
   "execution_count": 175,
   "id": "bae73c29",
   "metadata": {},
   "outputs": [
    {
     "data": {
      "image/png": "[encoded data removed]",
      "text/plain": [
       "<matplotlib.figure.Figure at 0x26284821080>"
      ]
     },
     "metadata": {
      "needs_background": "light"
     },
     "output_type": "display_data"
    }
   ],
   "source": [
    "if pruned_path is not None:\n",
    "    pp = np.array(pruned_path)\n",
    "    ppp = np.array(path)\n",
    "    plt.plot(pp[-10:-1, 1], pp[-10:-1, 0]-600, 'g')\n",
    "    plt.scatter(pp[-10:-1, 1], pp[-10:-1, 0]-600)\n",
    "    plt.plot(ppp[-10:-1, 1], ppp[-10:-1, 0]-600, 'm')"
   ]
  },
  {
   "cell_type": "code",
   "execution_count": null,
   "id": "56d33adc",
   "metadata": {},
   "outputs": [],
   "source": []
  }
 ],
 "metadata": {
  "kernelspec": {
   "display_name": "Python 3",
   "language": "python",
   "name": "python3"
  },
  "language_info": {
   "codemirror_mode": {
    "name": "ipython",
    "version": 3
   },
   "file_extension": ".py",
   "mimetype": "text/x-python",
   "name": "python",
   "nbconvert_exporter": "python",
   "pygments_lexer": "ipython3",
   "version": "3.6.3"
  }
 },
 "nbformat": 4,
 "nbformat_minor": 5
}
